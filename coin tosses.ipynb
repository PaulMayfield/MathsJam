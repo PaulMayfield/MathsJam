{
 "cells": [
  {
   "cell_type": "code",
   "execution_count": 8,
   "metadata": {},
   "outputs": [
    {
     "name": "stdout",
     "output_type": "stream",
     "text": [
      "wins 5363 probability 0.5363\n"
     ]
    },
    {
     "data": {
      "image/png": "[encoded data removed]",
      "text/plain": [
       "<Figure size 432x288 with 1 Axes>"
      ]
     },
     "metadata": {
      "needs_background": "light"
     },
     "output_type": "display_data"
    }
   ],
   "source": [
    "import random\n",
    "import matplotlib.pyplot as plt\n",
    "\n",
    "n = 1000 # number of coins\n",
    "m = 10000 # number simulations\n",
    "wins = []\n",
    "\n",
    "for i in range(m):\n",
    "\n",
    "    # tosses for Joe, count heads\n",
    "    joe = sum([random.random() > 0.5 for i in range(n)])\n",
    "\n",
    "    # Tosses for Jim (he has one more coin)\n",
    "    jim = sum([random.random() > 0.5 for i in range(n+1)])\n",
    "\n",
    "    # add 1 if jim wins\n",
    "    wins.append(jim - joe)\n",
    "\n",
    "print(f'wins {sum(wins)} probability {sum(wins) / m}')\n",
    "\n",
    "plt.hist(wins, bins = 50)\n",
    "plt.show()"
   ]
  }
 ],
 "metadata": {
  "kernelspec": {
   "display_name": "Python 3",
   "language": "python",
   "name": "python3"
  },
  "language_info": {
   "codemirror_mode": {
    "name": "ipython",
    "version": 3
   },
   "file_extension": ".py",
   "mimetype": "text/x-python",
   "name": "python",
   "nbconvert_exporter": "python",
   "pygments_lexer": "ipython3",
   "version": "3.8.3"
  }
 },
 "nbformat": 4,
 "nbformat_minor": 4
}
