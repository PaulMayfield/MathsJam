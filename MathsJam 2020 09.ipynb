{
 "cells": [
  {
   "cell_type": "code",
   "execution_count": 19,
   "metadata": {},
   "outputs": [
    {
     "name": "stdout",
     "output_type": "stream",
     "text": [
      "No subset divisible by 5: (2, 2, 2, 2, 3, 3, 3, 3)\n",
      "No subset divisible by 5: (0, 0, 0, 0, 2, 2, 2, 2)\n",
      "No subset divisible by 5: (0, 0, 0, 0, 4, 4, 4, 4)\n",
      "No subset divisible by 5: (0, 0, 0, 0, 1, 1, 1, 1)\n",
      "No subset divisible by 5: (0, 0, 0, 0, 3, 3, 3, 3)\n",
      "No subset divisible by 5: (3, 3, 3, 3, 4, 4, 4, 4)\n",
      "No subset divisible by 5: (1, 1, 1, 1, 4, 4, 4, 4)\n",
      "No subset divisible by 5: (2, 2, 2, 2, 4, 4, 4, 4)\n",
      "No subset divisible by 5: (1, 1, 1, 1, 2, 2, 2, 2)\n",
      "No subset divisible by 5: (1, 1, 1, 1, 3, 3, 3, 3)\n"
     ]
    }
   ],
   "source": [
    "import itertools\n",
    "\n",
    "# m number of digits\n",
    "m = 8\n",
    "\n",
    "# x search space\n",
    "x = [0]*m+[1]*m+[2]*m+[3]*m+[4]*m\n",
    "\n",
    "# n size of subsets\n",
    "n = 5\n",
    "\n",
    "for UrnIter in list(set(itertools.combinations(x,m))):\n",
    "    # set fail flag\n",
    "    FoundFlag = False\n",
    "    \n",
    "    # Create a list of every subset of size n in UrnNumber\n",
    "    Draws = set(itertools.combinations(UrnIter,n))\n",
    "    \n",
    "    # convert to list so we can iterate over all the subsets\n",
    "    DrawsList = list(Draws)\n",
    "    for i in range(len(DrawsList)):\n",
    "        # does the subset fail\n",
    "        if sum(DrawsList[i]) % 5 == 0:\n",
    "            FoundFlag = True\n",
    "    \n",
    "    #Tell me the UrnNumber if it did NOT fail\n",
    "    if not(FoundFlag):\n",
    "        print('No subset divisible by 5:', UrnIter)\n",
    "\n",
    "                             \n"
   ]
  },
  {
   "cell_type": "code",
   "execution_count": null,
   "metadata": {},
   "outputs": [],
   "source": []
  }
 ],
 "metadata": {
  "kernelspec": {
   "display_name": "Python 3",
   "language": "python",
   "name": "python3"
  },
  "language_info": {
   "codemirror_mode": {
    "name": "ipython",
    "version": 3
   },
   "file_extension": ".py",
   "mimetype": "text/x-python",
   "name": "python",
   "nbconvert_exporter": "python",
   "pygments_lexer": "ipython3",
   "version": "3.8.3"
  }
 },
 "nbformat": 4,
 "nbformat_minor": 4
}
