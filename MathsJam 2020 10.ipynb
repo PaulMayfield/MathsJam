{
 "cells": [
  {
   "cell_type": "code",
   "execution_count": 8,
   "metadata": {},
   "outputs": [
    {
     "name": "stdout",
     "output_type": "stream",
     "text": [
      "0.33346\n"
     ]
    }
   ],
   "source": [
    "import random\n",
    "\n",
    "# number of trials\n",
    "N = 1000000\n",
    "\n",
    "# count successful trials\n",
    "s = 0\n",
    "\n",
    "for i in range(N):\n",
    "    a = random.random()\n",
    "    b = random.random()\n",
    "    c = random.random()\n",
    "\n",
    "    # is c (the cut) between a and b (the candles)?\n",
    "    if a < c < b or b < c < a:\n",
    "        s += 1\n",
    "\n",
    "# print ratio of successes        \n",
    "print(s/N)\n"
   ]
  },
  {
   "cell_type": "code",
   "execution_count": 15,
   "metadata": {},
   "outputs": [
    {
     "data": {
      "text/latex": [
       "$\\displaystyle \\frac{1}{3}$"
      ],
      "text/plain": [
       "1/3"
      ]
     },
     "execution_count": 15,
     "metadata": {},
     "output_type": "execute_result"
    }
   ],
   "source": [
    "from sympy import *\n",
    "\n",
    "a = Symbol('a') # candle 1\n",
    "b = Symbol('b') # candle 2\n",
    "\n",
    "integrate(integrate(a-b, (b, 0, a)) + integrate(b-a, (b, a, 1)), (a, 0, 1))\n"
   ]
  },
  {
   "cell_type": "code",
   "execution_count": 47,
   "metadata": {
    "scrolled": true
   },
   "outputs": [
    {
     "data": {
      "text/plain": [
       "[-sqrt(7*a**2 - 2*a*sqrt(a**2 + 1) + 12*a + 3),\n",
       " sqrt(7*a**2 - 2*a*sqrt(a**2 + 1) + 12*a + 3)]"
      ]
     },
     "execution_count": 47,
     "metadata": {},
     "output_type": "execute_result"
    }
   ],
   "source": [
    "x = Symbol('x')\n",
    "solve(Eq((sqrt(a**2+1)+a)**2+x**2,(3*a+2)**2),x)"
   ]
  },
  {
   "cell_type": "code",
   "execution_count": 48,
   "metadata": {},
   "outputs": [
    {
     "data": {
      "text/latex": [
       "$\\displaystyle \\left(a + \\sqrt{a^{2} + 1}\\right) \\sqrt{7 a^{2} - 2 a \\sqrt{a^{2} + 1} + 12 a + 3}$"
      ],
      "text/plain": [
       "(a + sqrt(a**2 + 1))*sqrt(7*a**2 - 2*a*sqrt(a**2 + 1) + 12*a + 3)"
      ]
     },
     "execution_count": 48,
     "metadata": {},
     "output_type": "execute_result"
    }
   ],
   "source": [
    "(sqrt(1+a**2)+a) * (sqrt(7*a**2 - 2*a*sqrt(a**2 + 1) + 12*a + 3))\n"
   ]
  },
  {
   "cell_type": "code",
   "execution_count": 49,
   "metadata": {},
   "outputs": [
    {
     "data": {
      "text/latex": [
       "$\\displaystyle x \\log{\\left(\\sqrt{x} \\right)} - \\frac{x}{2}$"
      ],
      "text/plain": [
       "x*log(sqrt(x)) - x/2"
      ]
     },
     "execution_count": 49,
     "metadata": {},
     "output_type": "execute_result"
    }
   ],
   "source": [
    "integrate(ln(sqrt(x)),x)"
   ]
  },
  {
   "cell_type": "code",
   "execution_count": 52,
   "metadata": {},
   "outputs": [
    {
     "data": {
      "text/latex": [
       "$\\displaystyle 5.01929252719397$"
      ],
      "text/plain": [
       "5.01929252719397"
      ]
     },
     "execution_count": 52,
     "metadata": {},
     "output_type": "execute_result"
    }
   ],
   "source": [
    "((sqrt(5)/2 + 1/2) * (sqrt(3)/2 + sqrt(5))).evalf()"
   ]
  },
  {
   "cell_type": "raw",
   "metadata": {},
   "source": [
    "integrate(arctan(4t),t)"
   ]
  },
  {
   "cell_type": "code",
   "execution_count": 56,
   "metadata": {},
   "outputs": [
    {
     "data": {
      "text/latex": [
       "$\\displaystyle a \\operatorname{atan}{\\left(4 a \\right)} - \\frac{\\log{\\left(16 a^{2} + 1 \\right)}}{8}$"
      ],
      "text/plain": [
       "a*atan(4*a) - log(16*a**2 + 1)/8"
      ]
     },
     "execution_count": 56,
     "metadata": {},
     "output_type": "execute_result"
    }
   ],
   "source": [
    "integrate(atan(4*a),a)\n"
   ]
  },
  {
   "cell_type": "code",
   "execution_count": 58,
   "metadata": {},
   "outputs": [
    {
     "data": {
      "text/plain": [
       "[-1, 2]"
      ]
     },
     "execution_count": 58,
     "metadata": {},
     "output_type": "execute_result"
    }
   ],
   "source": [
    "solve(Eq((1+x)**2+(2+x)**2,(1+2*x)**2),x)"
   ]
  },
  {
   "cell_type": "code",
   "execution_count": 3,
   "metadata": {},
   "outputs": [
    {
     "data": {
      "text/latex": [
       "$\\displaystyle 5.0 \\cdot 10^{52}$"
      ],
      "text/plain": [
       "0.e+52"
      ]
     },
     "execution_count": 3,
     "metadata": {},
     "output_type": "execute_result"
    }
   ],
   "source": [
    "from sympy import *\n",
    "\n",
    "x = Symbol('x') \n",
    "integrate((sec(x)*sec(x))/(x*sqrt(x)),(x,0,1)).evalf()"
   ]
  },
  {
   "cell_type": "code",
   "execution_count": null,
   "metadata": {},
   "outputs": [],
   "source": []
  }
 ],
 "metadata": {
  "kernelspec": {
   "display_name": "Python 3",
   "language": "python",
   "name": "python3"
  },
  "language_info": {
   "codemirror_mode": {
    "name": "ipython",
    "version": 3
   },
   "file_extension": ".py",
   "mimetype": "text/x-python",
   "name": "python",
   "nbconvert_exporter": "python",
   "pygments_lexer": "ipython3",
   "version": "3.8.3"
  }
 },
 "nbformat": 4,
 "nbformat_minor": 4
}
